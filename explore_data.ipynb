{
 "cells": [
  {
   "cell_type": "code",
   "execution_count": 3,
   "metadata": {},
   "outputs": [
    {
     "name": "stdout",
     "output_type": "stream",
     "text": [
      "  status message-type message-version message.indexed.date-parts  \\\n",
      "0     ok         work           1.0.0             [[2022, 4, 3]]   \n",
      "\n",
      "  message.indexed.date-time  message.indexed.timestamp  \\\n",
      "0      2022-04-03T01:45:52Z              1648950352883   \n",
      "\n",
      "   message.reference-count message.publisher message.issue  \\\n",
      "0                        6       Elsevier BV             1   \n",
      "\n",
      "                                     message.license  ...  \\\n",
      "0  [{'start': {'date-parts': [[2018, 1, 1]], 'dat...  ...   \n",
      "\n",
      "  message.references-count  message.journal-issue.issue  \\\n",
      "0                        6                            1   \n",
      "\n",
      "  message.journal-issue.published-print.date-parts message.alternative-id  \\\n",
      "0                                      [[2018, 1]]    [S0735109717415853]   \n",
      "\n",
      "                                  message.URL message.ISSN  \\\n",
      "0  https://doi.org/10.1016/j.jacc.2017.11.012  [0735-1097]   \n",
      "\n",
      "                           message.issn-type message.subject  \\\n",
      "0  [{'value': '0735-1097', 'type': 'print'}]              []   \n",
      "\n",
      "   message.published.date-parts  \\\n",
      "0                   [[2018, 1]]   \n",
      "\n",
      "                                   message.assertion  \n",
      "0  [{'value': 'Elsevier', 'name': 'publisher', 'l...  \n",
      "\n",
      "[1 rows x 51 columns]\n"
     ]
    }
   ],
   "source": [
    "from get_crossref_data import get_crossref_data\n",
    "\n",
    "doi = \"10.1016/j.jacc.2017.11.012\"\n",
    "result = get_crossref_data(doi)\n",
    "print(result)"
   ]
  }
 ],
 "metadata": {
  "kernelspec": {
   "display_name": ".venv",
   "language": "python",
   "name": "python3"
  },
  "language_info": {
   "codemirror_mode": {
    "name": "ipython",
    "version": 3
   },
   "file_extension": ".py",
   "mimetype": "text/x-python",
   "name": "python",
   "nbconvert_exporter": "python",
   "pygments_lexer": "ipython3",
   "version": "3.8.2"
  }
 },
 "nbformat": 4,
 "nbformat_minor": 2
}
