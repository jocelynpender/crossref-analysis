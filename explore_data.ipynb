{
 "cells": [
  {
   "cell_type": "code",
   "execution_count": 11,
   "metadata": {},
   "outputs": [
    {
     "name": "stdout",
     "output_type": "stream",
     "text": [
      "  status message-type message-version message.indexed.date-parts  \\\n",
      "0     ok         work           1.0.0             [[2022, 4, 3]]   \n",
      "\n",
      "  message.indexed.date-time  message.indexed.timestamp  \\\n",
      "0      2022-04-03T01:45:52Z              1648950352883   \n",
      "\n",
      "   message.reference-count message.publisher message.issue  \\\n",
      "0                        6       Elsevier BV             1   \n",
      "\n",
      "                                     message.license  ...  \\\n",
      "0  [{'start': {'date-parts': [[2018, 1, 1]], 'dat...  ...   \n",
      "\n",
      "  message.references-count  message.journal-issue.issue  \\\n",
      "0                        6                            1   \n",
      "\n",
      "  message.journal-issue.published-print.date-parts message.alternative-id  \\\n",
      "0                                      [[2018, 1]]    [S0735109717415853]   \n",
      "\n",
      "                                  message.URL message.ISSN  \\\n",
      "0  https://doi.org/10.1016/j.jacc.2017.11.012  [0735-1097]   \n",
      "\n",
      "                           message.issn-type message.subject  \\\n",
      "0  [{'value': '0735-1097', 'type': 'print'}]              []   \n",
      "\n",
      "   message.published.date-parts  \\\n",
      "0                   [[2018, 1]]   \n",
      "\n",
      "                                   message.assertion  \n",
      "0  [{'value': 'Elsevier', 'name': 'publisher', 'l...  \n",
      "\n",
      "[1 rows x 51 columns]\n"
     ]
    }
   ],
   "source": [
    "from get_crossref_data import get_crossref_data\n",
    "\n",
    "doi = \"10.1016/j.jacc.2017.11.012\"\n",
    "df = get_crossref_data(doi)\n",
    "print(df)"
   ]
  },
  {
   "cell_type": "code",
   "execution_count": 12,
   "metadata": {},
   "outputs": [],
   "source": [
    "import pandas as pd\n",
    "\n",
    "# Keep only the fields we are interested in exploring\n",
    "result = df[['message.DOI', 'message.member', 'message.is-referenced-by-count', 'message.reference', 'message.reference-count']]\n",
    "# Rename columns for clarity\n",
    "result.columns = ['DOI', 'member', 'is-referenced-by-count', 'reference', 'reference-count']"
   ]
  },
  {
   "cell_type": "code",
   "execution_count": 17,
   "metadata": {},
   "outputs": [],
   "source": [
    "# Import the CSV file into a pandas dataframe\n",
    "aggregated_df = pd.read_csv('/Users/jocelynpender/Documents/02 - AREAS/Career/2025 Update/Crossref/interview-prep/sample-data/aggregated_data.csv')\n",
    "expanded_aggregated_df = pd.read_csv('/Users/jocelynpender/Documents/02 - AREAS/Career/2025 Update/Crossref/interview-prep/sample-data/aggregated_data_expanded.csv')\n",
    "\n"
   ]
  },
  {
   "cell_type": "code",
   "execution_count": 18,
   "metadata": {},
   "outputs": [
    {
     "name": "stdout",
     "output_type": "stream",
     "text": [
      "                                                items\n",
      "0   [{'DOI': '10.1057/s41268-024-00330-9', 'refere...\n",
      "1   [{'DOI': '10.1002/cb.2328', 'reference': [{'au...\n",
      "2   [{'DOI': '10.1109/tcsii.2024.3390547', 'issued...\n",
      "3   [{'DOI': '10.1007/s10843-024-00350-z', 'refere...\n",
      "4   [{'DOI': '10.1002/cnr2.2057', 'reference': [{'...\n",
      "..                                                ...\n",
      "95  [{'DOI': '10.47524/jlst.v6i1.136', 'issued': {...\n",
      "96  [{'DOI': '10.3390/journalmedia5020033', 'refer...\n",
      "97  [{'DOI': '10.1186/s12958-024-01207-9', 'refere...\n",
      "98  [{'DOI': '10.1103/physrevd.65.114022', 'refere...\n",
      "99  [{'DOI': '10.3917/afco1.277.0384', 'subtitle':...\n",
      "\n",
      "[100 rows x 1 columns]\n"
     ]
    }
   ],
   "source": [
    "print(aggregated_df)\n"
   ]
  },
  {
   "cell_type": "code",
   "execution_count": 19,
   "metadata": {},
   "outputs": [
    {
     "name": "stdout",
     "output_type": "stream",
     "text": [
      "                                                  items\n",
      "0     {'DOI': '10.1057/s41268-024-00330-9', 'referen...\n",
      "1     {'DOI': '10.20944/preprints202404.1493.v1', 'i...\n",
      "2     {'DOI': '10.1093/ijpp/riae013.018', 'issued': ...\n",
      "3     {'DOI': '10.4103/ijpn.ijpn_87_23', 'reference'...\n",
      "4     {'DOI': '10.1021/acs.analchem.4c01379', 'refer...\n",
      "...                                                 ...\n",
      "9995  {'DOI': '10.1117/1.oe.63.4.043105', 'issued': ...\n",
      "9996  {'DOI': '10.30659/jp-sa.3.3.212-220', 'issued'...\n",
      "9997  {'DOI': '10.1007/s13280-024-02027-2', 'referen...\n",
      "9998  {'DOI': '10.52294/001c.116386', 'reference': [...\n",
      "9999  {'DOI': '10.5194/egusphere-2024-990-supplement...\n",
      "\n",
      "[10000 rows x 1 columns]\n"
     ]
    }
   ],
   "source": [
    "print(expanded_aggregated_df)"
   ]
  },
  {
   "cell_type": "code",
   "execution_count": null,
   "metadata": {},
   "outputs": [
    {
     "name": "stdout",
     "output_type": "stream",
     "text": [
      "                                        DOI  \\\n",
      "0                10.1057/s41268-024-00330-9   \n",
      "1          10.20944/preprints202404.1493.v1   \n",
      "2                  10.1093/ijpp/riae013.018   \n",
      "3                   10.4103/ijpn.ijpn_87_23   \n",
      "4              10.1021/acs.analchem.4c01379   \n",
      "...                                     ...   \n",
      "9995               10.1117/1.oe.63.4.043105   \n",
      "9996             10.30659/jp-sa.3.3.212-220   \n",
      "9997             10.1007/s13280-024-02027-2   \n",
      "9998                   10.52294/001c.116386   \n",
      "9999  10.5194/egusphere-2024-990-supplement   \n",
      "\n",
      "                                              reference  \\\n",
      "0     [{'first-page': '1', 'author': 'Rebecca Adler-...   \n",
      "1                                                   NaN   \n",
      "2                                                   NaN   \n",
      "3     [{'first-page': 'E01', 'author': 'Malkud', 'ar...   \n",
      "4     [{'doi-asserted-by': 'publisher', 'DOI': '10.1...   \n",
      "...                                                 ...   \n",
      "9995                                                NaN   \n",
      "9996                                                NaN   \n",
      "9997  [{'unstructured': 'Akenji, L., M. Bengtsson, V...   \n",
      "9998  [{'year': '2008', 'article-title': 'Multichann...   \n",
      "9999                                                NaN   \n",
      "\n",
      "                                issued    prefix  \\\n",
      "0      {'date-parts': [[2024, 4, 29]]}  10.10570   \n",
      "1      {'date-parts': [[2024, 4, 23]]}  10.20944   \n",
      "2       {'date-parts': [[2024, 4, 1]]}  10.10930   \n",
      "3          {'date-parts': [[2024, 1]]}  10.41030   \n",
      "4      {'date-parts': [[2024, 4, 29]]}  10.10210   \n",
      "...                                ...       ...   \n",
      "9995   {'date-parts': [[2024, 4, 26]]}  10.11170   \n",
      "9996  {'date-parts': [[2023, 10, 19]]}  10.30659   \n",
      "9997   {'date-parts': [[2024, 4, 26]]}  10.10070   \n",
      "9998   {'date-parts': [[2024, 4, 26]]}  10.52294   \n",
      "9999   {'date-parts': [[2024, 4, 26]]}  10.51940   \n",
      "\n",
      "                                                 author  reference-count  \\\n",
      "0     [{'affiliation': [], 'given': 'Caroline', 'fam...            113.0   \n",
      "1     [{'authenticated-orcid': False, 'given': 'Moha...              0.0   \n",
      "2     [{'affiliation': [{'name': 'Pharmacy Departmen...              0.0   \n",
      "3     [{'affiliation': [{'name': 'Department of Phar...              4.0   \n",
      "4     [{'affiliation': [{'name': 'College of Chemist...             39.0   \n",
      "...                                                 ...              ...   \n",
      "9995  [{'affiliation': [{'name': 'Hubei University o...              0.0   \n",
      "9996  [{'affiliation': [], 'given': 'Sandra Putri', ...              0.0   \n",
      "9997  [{'authenticated-orcid': False, 'given': 'Rich...             79.0   \n",
      "9998  [{'authenticated-orcid': True, 'given': 'Vladi...             77.0   \n",
      "9999  [{'authenticated-orcid': False, 'given': 'Ben ...              0.0   \n",
      "\n",
      "                            ISSN  \\\n",
      "0     ['1408-6980', '1581-1980']   \n",
      "1                            NaN   \n",
      "2     ['0961-7671', '2042-7174']   \n",
      "3     ['0970-5333', '2321-7820']   \n",
      "4     ['0003-2700', '1520-6882']   \n",
      "...                          ...   \n",
      "9995               ['0091-3286']   \n",
      "9996               ['2775-6335']   \n",
      "9997  ['0044-7447', '1654-7209']   \n",
      "9998               ['2957-3963']   \n",
      "9999                         NaN   \n",
      "\n",
      "                                              assertion  member    source  \\\n",
      "0     [{'label': 'First Online', 'group': {'name': '...     297  Crossref   \n",
      "1                                                   NaN    1968  Crossref   \n",
      "2                                                   NaN     286  Crossref   \n",
      "3                                                   NaN    2581  Crossref   \n",
      "4                                                   NaN     316  Crossref   \n",
      "...                                                 ...     ...       ...   \n",
      "9995                                                NaN     189  Crossref   \n",
      "9996                                                NaN   12130  Crossref   \n",
      "9997  [{'label': 'Received', 'group': {'name': 'Arti...     297  Crossref   \n",
      "9998                                                NaN   29889  Crossref   \n",
      "9999                                                NaN    3145  Crossref   \n",
      "\n",
      "      ...  approved update-to content-created degree translator  \\\n",
      "0     ...       NaN       NaN             NaN    NaN        NaN   \n",
      "1     ...       NaN       NaN             NaN    NaN        NaN   \n",
      "2     ...       NaN       NaN             NaN    NaN        NaN   \n",
      "3     ...       NaN       NaN             NaN    NaN        NaN   \n",
      "4     ...       NaN       NaN             NaN    NaN        NaN   \n",
      "...   ...       ...       ...             ...    ...        ...   \n",
      "9995  ...       NaN       NaN             NaN    NaN        NaN   \n",
      "9996  ...       NaN       NaN             NaN    NaN        NaN   \n",
      "9997  ...       NaN       NaN             NaN    NaN        NaN   \n",
      "9998  ...       NaN       NaN             NaN    NaN        NaN   \n",
      "9999  ...       NaN       NaN             NaN    NaN        NaN   \n",
      "\n",
      "     clinical-trial-number  chair content-updated project award  \n",
      "0                      NaN    NaN             NaN     NaN   NaN  \n",
      "1                      NaN    NaN             NaN     NaN   NaN  \n",
      "2                      NaN    NaN             NaN     NaN   NaN  \n",
      "3                      NaN    NaN             NaN     NaN   NaN  \n",
      "4                      NaN    NaN             NaN     NaN   NaN  \n",
      "...                    ...    ...             ...     ...   ...  \n",
      "9995                   NaN    NaN             NaN     NaN   NaN  \n",
      "9996                   NaN    NaN             NaN     NaN   NaN  \n",
      "9997                   NaN    NaN             NaN     NaN   NaN  \n",
      "9998                   NaN    NaN             NaN     NaN   NaN  \n",
      "9999                   NaN    NaN             NaN     NaN   NaN  \n",
      "\n",
      "[10000 rows x 70 columns]\n"
     ]
    },
    {
     "name": "stderr",
     "output_type": "stream",
     "text": [
      "/var/folders/t7/0bsdwy0j4t75yt3yr17qbt700000gn/T/ipykernel_74959/618040561.py:2: DtypeWarning: Columns (64,65,67) have mixed types. Specify dtype option on import or set low_memory=False.\n",
      "  test_expanded_aggregated_df = pd.read_csv('/Users/jocelynpender/Documents/02 - AREAS/Career/2025 Update/Crossref/interview-prep/sample-data/aggregated_data_expanded_rows_v2.csv')\n"
     ]
    }
   ],
   "source": [
    "# Import the CSV file into a pandas dataframe\n",
    "expanded_aggregated_df = pd.read_csv('/Users/jocelynpender/Documents/02 - AREAS/Career/2025 Update/Crossref/interview-prep/sample-data/aggregated_data_expanded_rows.csv')\n",
    "print(expanded_aggregated_df)\n"
   ]
  }
 ],
 "metadata": {
  "kernelspec": {
   "display_name": ".venv",
   "language": "python",
   "name": "python3"
  },
  "language_info": {
   "codemirror_mode": {
    "name": "ipython",
    "version": 3
   },
   "file_extension": ".py",
   "mimetype": "text/x-python",
   "name": "python",
   "nbconvert_exporter": "python",
   "pygments_lexer": "ipython3",
   "version": "3.8.2"
  }
 },
 "nbformat": 4,
 "nbformat_minor": 2
}
